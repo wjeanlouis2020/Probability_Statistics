{
  "nbformat": 4,
  "nbformat_minor": 0,
  "metadata": {
    "colab": {
      "provenance": [],
      "include_colab_link": true
    },
    "kernelspec": {
      "name": "python3",
      "display_name": "Python 3"
    },
    "language_info": {
      "name": "python"
    }
  },
  "cells": [
    {
      "cell_type": "markdown",
      "metadata": {
        "id": "view-in-github",
        "colab_type": "text"
      },
      "source": [
        "<a href=\"https://colab.research.google.com/github/wjeanlouis2020/Probability_Statistics/blob/main/Copy_of_Hahn_Stats_2023_Lab_5_Jean_Louis.ipynb\" target=\"_parent\"><img src=\"https://colab.research.google.com/assets/colab-badge.svg\" alt=\"Open In Colab\"/></a>"
      ]
    },
    {
      "cell_type": "markdown",
      "source": [
        "#Edit Form:\n",
        "\n",
        "https://docs.google.com/forms/d/1kKsf2-I2Ou88IGvu-KIWhqB_Uo5vjP-IUdzvu41zBMA/edit"
      ],
      "metadata": {
        "id": "0eVNLqiCurNy"
      }
    },
    {
      "cell_type": "markdown",
      "source": [
        "# Submit Form\n",
        "https://docs.google.com/forms/d/e/1FAIpQLScaLFt0ZEOTNEnD4qxEdKHN5dMk3ZGSaW6cPwKUaAPjxgI8kg/viewform?usp=sf_link"
      ],
      "metadata": {
        "id": "7GMjB4wsnlVK"
      }
    },
    {
      "cell_type": "markdown",
      "source": [
        "# Spreadsheet version of Form"
      ],
      "metadata": {
        "id": "1HuAP2L-nuCa"
      }
    },
    {
      "cell_type": "markdown",
      "source": [
        "https://docs.google.com/spreadsheets/d/1XJhAqJmvsQZ_7MiH7OMNV3Sqljy2clhZnOd6ry5JvRI/edit?usp=sharing"
      ],
      "metadata": {
        "id": "iW6EAZ7eppRh"
      }
    },
    {
      "cell_type": "markdown",
      "source": [
        "# Color Names\n",
        "https://matplotlib.org/stable/gallery/color/named_colors.html"
      ],
      "metadata": {
        "id": "W2pUtGA8yxgO"
      }
    },
    {
      "cell_type": "markdown",
      "source": [
        "Always import libray "
      ],
      "metadata": {
        "id": "tHy9WVPaeS6A"
      }
    },
    {
      "cell_type": "code",
      "execution_count": null,
      "metadata": {
        "id": "q-tGyKkht2Au"
      },
      "outputs": [],
      "source": [
        "import pandas as pd\n",
        "import numpy as np\n",
        "import matplotlib.pyplot as plt\n",
        "def get_database(url):\n",
        "    url_head = \"https://docs.google.com/spreadsheets/d/\"\n",
        "    url_foot = \"/gviz/tq?tqx=out:csv&sheet=\"\n",
        "    url_body = url.split('/')[5]\n",
        "    sheet_name = \"1\"\n",
        "    url_csv = url_head + url_body + url_foot + sheet_name\n",
        "    df = pd.read_csv(url_csv, sep=',', skiprows=0)\n",
        "    return df"
      ]
    },
    {
      "cell_type": "code",
      "source": [
        "url = 'https://docs.google.com/spreadsheets/d/1XJhAqJmvsQZ_7MiH7OMNV3Sqljy2clhZnOd6ry5JvRI/edit?usp=sharing'"
      ],
      "metadata": {
        "id": "fc8aichguBRZ"
      },
      "execution_count": null,
      "outputs": []
    },
    {
      "cell_type": "markdown",
      "source": [
        "To have database"
      ],
      "metadata": {
        "id": "w37V4Cp8eXUn"
      }
    },
    {
      "cell_type": "code",
      "source": [
        "data = get_database(url)"
      ],
      "metadata": {
        "id": "sFe18hEYuC9H"
      },
      "execution_count": null,
      "outputs": []
    },
    {
      "cell_type": "code",
      "source": [
        "data"
      ],
      "metadata": {
        "colab": {
          "base_uri": "https://localhost:8080/",
          "height": 1000
        },
        "id": "P4vYCpPeuHpX",
        "outputId": "3808d4e6-3ef7-4940-efc7-4c22fcd21d47"
      },
      "execution_count": null,
      "outputs": [
        {
          "output_type": "execute_result",
          "data": {
            "text/plain": [
              "              Timestamp Favorite Color\n",
              "0    8/28/2022 23:44:49           Blue\n",
              "1    8/28/2022 23:47:16            Red\n",
              "2   10/10/2022 12:04:51            Red\n",
              "3   10/10/2022 12:04:56          Green\n",
              "4   10/10/2022 12:04:56          Green\n",
              "5   10/10/2022 12:04:59           Blue\n",
              "6   10/10/2022 12:05:05           Pink\n",
              "7   10/10/2022 12:05:09         Purple\n",
              "8   10/10/2022 12:05:23           Blue\n",
              "9   10/10/2022 12:05:24           Pink\n",
              "10  10/10/2022 12:05:26           Pink\n",
              "11  10/10/2022 12:05:29           Blue\n",
              "12  10/10/2022 12:05:30           Blue\n",
              "13  10/10/2022 12:05:35           Blue\n",
              "14  10/10/2022 12:05:39            Red\n",
              "15  10/10/2022 12:05:40            Red\n",
              "16  10/10/2022 12:05:40           Blue\n",
              "17  10/10/2022 12:05:48         Purple\n",
              "18  10/10/2022 12:05:48          Green\n",
              "19  10/10/2022 12:06:04          Green\n",
              "20  10/10/2022 12:06:08           Blue\n",
              "21  10/10/2022 12:06:10           Pink\n",
              "22  10/10/2022 12:06:15           Blue\n",
              "23  10/10/2022 12:06:18         Purple\n",
              "24  10/10/2022 12:06:19           Blue\n",
              "25  10/10/2022 12:06:34         Purple\n",
              "26  10/10/2022 12:06:35           Pink\n",
              "27  10/10/2022 12:07:03           Pink\n",
              "28  10/10/2022 12:07:03         Purple\n",
              "29  10/10/2022 12:07:21           Blue\n",
              "30  10/10/2022 12:07:24         Purple\n",
              "31  10/10/2022 12:07:32            Red\n",
              "32  10/10/2022 12:07:41          Green\n",
              "33  10/10/2022 12:08:22           Blue\n",
              "34  10/10/2022 12:08:24          Green"
            ],
            "text/html": [
              "\n",
              "  <div id=\"df-38c73dab-caf3-4677-a156-8eb011c6b6de\">\n",
              "    <div class=\"colab-df-container\">\n",
              "      <div>\n",
              "<style scoped>\n",
              "    .dataframe tbody tr th:only-of-type {\n",
              "        vertical-align: middle;\n",
              "    }\n",
              "\n",
              "    .dataframe tbody tr th {\n",
              "        vertical-align: top;\n",
              "    }\n",
              "\n",
              "    .dataframe thead th {\n",
              "        text-align: right;\n",
              "    }\n",
              "</style>\n",
              "<table border=\"1\" class=\"dataframe\">\n",
              "  <thead>\n",
              "    <tr style=\"text-align: right;\">\n",
              "      <th></th>\n",
              "      <th>Timestamp</th>\n",
              "      <th>Favorite Color</th>\n",
              "    </tr>\n",
              "  </thead>\n",
              "  <tbody>\n",
              "    <tr>\n",
              "      <th>0</th>\n",
              "      <td>8/28/2022 23:44:49</td>\n",
              "      <td>Blue</td>\n",
              "    </tr>\n",
              "    <tr>\n",
              "      <th>1</th>\n",
              "      <td>8/28/2022 23:47:16</td>\n",
              "      <td>Red</td>\n",
              "    </tr>\n",
              "    <tr>\n",
              "      <th>2</th>\n",
              "      <td>10/10/2022 12:04:51</td>\n",
              "      <td>Red</td>\n",
              "    </tr>\n",
              "    <tr>\n",
              "      <th>3</th>\n",
              "      <td>10/10/2022 12:04:56</td>\n",
              "      <td>Green</td>\n",
              "    </tr>\n",
              "    <tr>\n",
              "      <th>4</th>\n",
              "      <td>10/10/2022 12:04:56</td>\n",
              "      <td>Green</td>\n",
              "    </tr>\n",
              "    <tr>\n",
              "      <th>5</th>\n",
              "      <td>10/10/2022 12:04:59</td>\n",
              "      <td>Blue</td>\n",
              "    </tr>\n",
              "    <tr>\n",
              "      <th>6</th>\n",
              "      <td>10/10/2022 12:05:05</td>\n",
              "      <td>Pink</td>\n",
              "    </tr>\n",
              "    <tr>\n",
              "      <th>7</th>\n",
              "      <td>10/10/2022 12:05:09</td>\n",
              "      <td>Purple</td>\n",
              "    </tr>\n",
              "    <tr>\n",
              "      <th>8</th>\n",
              "      <td>10/10/2022 12:05:23</td>\n",
              "      <td>Blue</td>\n",
              "    </tr>\n",
              "    <tr>\n",
              "      <th>9</th>\n",
              "      <td>10/10/2022 12:05:24</td>\n",
              "      <td>Pink</td>\n",
              "    </tr>\n",
              "    <tr>\n",
              "      <th>10</th>\n",
              "      <td>10/10/2022 12:05:26</td>\n",
              "      <td>Pink</td>\n",
              "    </tr>\n",
              "    <tr>\n",
              "      <th>11</th>\n",
              "      <td>10/10/2022 12:05:29</td>\n",
              "      <td>Blue</td>\n",
              "    </tr>\n",
              "    <tr>\n",
              "      <th>12</th>\n",
              "      <td>10/10/2022 12:05:30</td>\n",
              "      <td>Blue</td>\n",
              "    </tr>\n",
              "    <tr>\n",
              "      <th>13</th>\n",
              "      <td>10/10/2022 12:05:35</td>\n",
              "      <td>Blue</td>\n",
              "    </tr>\n",
              "    <tr>\n",
              "      <th>14</th>\n",
              "      <td>10/10/2022 12:05:39</td>\n",
              "      <td>Red</td>\n",
              "    </tr>\n",
              "    <tr>\n",
              "      <th>15</th>\n",
              "      <td>10/10/2022 12:05:40</td>\n",
              "      <td>Red</td>\n",
              "    </tr>\n",
              "    <tr>\n",
              "      <th>16</th>\n",
              "      <td>10/10/2022 12:05:40</td>\n",
              "      <td>Blue</td>\n",
              "    </tr>\n",
              "    <tr>\n",
              "      <th>17</th>\n",
              "      <td>10/10/2022 12:05:48</td>\n",
              "      <td>Purple</td>\n",
              "    </tr>\n",
              "    <tr>\n",
              "      <th>18</th>\n",
              "      <td>10/10/2022 12:05:48</td>\n",
              "      <td>Green</td>\n",
              "    </tr>\n",
              "    <tr>\n",
              "      <th>19</th>\n",
              "      <td>10/10/2022 12:06:04</td>\n",
              "      <td>Green</td>\n",
              "    </tr>\n",
              "    <tr>\n",
              "      <th>20</th>\n",
              "      <td>10/10/2022 12:06:08</td>\n",
              "      <td>Blue</td>\n",
              "    </tr>\n",
              "    <tr>\n",
              "      <th>21</th>\n",
              "      <td>10/10/2022 12:06:10</td>\n",
              "      <td>Pink</td>\n",
              "    </tr>\n",
              "    <tr>\n",
              "      <th>22</th>\n",
              "      <td>10/10/2022 12:06:15</td>\n",
              "      <td>Blue</td>\n",
              "    </tr>\n",
              "    <tr>\n",
              "      <th>23</th>\n",
              "      <td>10/10/2022 12:06:18</td>\n",
              "      <td>Purple</td>\n",
              "    </tr>\n",
              "    <tr>\n",
              "      <th>24</th>\n",
              "      <td>10/10/2022 12:06:19</td>\n",
              "      <td>Blue</td>\n",
              "    </tr>\n",
              "    <tr>\n",
              "      <th>25</th>\n",
              "      <td>10/10/2022 12:06:34</td>\n",
              "      <td>Purple</td>\n",
              "    </tr>\n",
              "    <tr>\n",
              "      <th>26</th>\n",
              "      <td>10/10/2022 12:06:35</td>\n",
              "      <td>Pink</td>\n",
              "    </tr>\n",
              "    <tr>\n",
              "      <th>27</th>\n",
              "      <td>10/10/2022 12:07:03</td>\n",
              "      <td>Pink</td>\n",
              "    </tr>\n",
              "    <tr>\n",
              "      <th>28</th>\n",
              "      <td>10/10/2022 12:07:03</td>\n",
              "      <td>Purple</td>\n",
              "    </tr>\n",
              "    <tr>\n",
              "      <th>29</th>\n",
              "      <td>10/10/2022 12:07:21</td>\n",
              "      <td>Blue</td>\n",
              "    </tr>\n",
              "    <tr>\n",
              "      <th>30</th>\n",
              "      <td>10/10/2022 12:07:24</td>\n",
              "      <td>Purple</td>\n",
              "    </tr>\n",
              "    <tr>\n",
              "      <th>31</th>\n",
              "      <td>10/10/2022 12:07:32</td>\n",
              "      <td>Red</td>\n",
              "    </tr>\n",
              "    <tr>\n",
              "      <th>32</th>\n",
              "      <td>10/10/2022 12:07:41</td>\n",
              "      <td>Green</td>\n",
              "    </tr>\n",
              "    <tr>\n",
              "      <th>33</th>\n",
              "      <td>10/10/2022 12:08:22</td>\n",
              "      <td>Blue</td>\n",
              "    </tr>\n",
              "    <tr>\n",
              "      <th>34</th>\n",
              "      <td>10/10/2022 12:08:24</td>\n",
              "      <td>Green</td>\n",
              "    </tr>\n",
              "  </tbody>\n",
              "</table>\n",
              "</div>\n",
              "      <button class=\"colab-df-convert\" onclick=\"convertToInteractive('df-38c73dab-caf3-4677-a156-8eb011c6b6de')\"\n",
              "              title=\"Convert this dataframe to an interactive table.\"\n",
              "              style=\"display:none;\">\n",
              "        \n",
              "  <svg xmlns=\"http://www.w3.org/2000/svg\" height=\"24px\"viewBox=\"0 0 24 24\"\n",
              "       width=\"24px\">\n",
              "    <path d=\"M0 0h24v24H0V0z\" fill=\"none\"/>\n",
              "    <path d=\"M18.56 5.44l.94 2.06.94-2.06 2.06-.94-2.06-.94-.94-2.06-.94 2.06-2.06.94zm-11 1L8.5 8.5l.94-2.06 2.06-.94-2.06-.94L8.5 2.5l-.94 2.06-2.06.94zm10 10l.94 2.06.94-2.06 2.06-.94-2.06-.94-.94-2.06-.94 2.06-2.06.94z\"/><path d=\"M17.41 7.96l-1.37-1.37c-.4-.4-.92-.59-1.43-.59-.52 0-1.04.2-1.43.59L10.3 9.45l-7.72 7.72c-.78.78-.78 2.05 0 2.83L4 21.41c.39.39.9.59 1.41.59.51 0 1.02-.2 1.41-.59l7.78-7.78 2.81-2.81c.8-.78.8-2.07 0-2.86zM5.41 20L4 18.59l7.72-7.72 1.47 1.35L5.41 20z\"/>\n",
              "  </svg>\n",
              "      </button>\n",
              "      \n",
              "  <style>\n",
              "    .colab-df-container {\n",
              "      display:flex;\n",
              "      flex-wrap:wrap;\n",
              "      gap: 12px;\n",
              "    }\n",
              "\n",
              "    .colab-df-convert {\n",
              "      background-color: #E8F0FE;\n",
              "      border: none;\n",
              "      border-radius: 50%;\n",
              "      cursor: pointer;\n",
              "      display: none;\n",
              "      fill: #1967D2;\n",
              "      height: 32px;\n",
              "      padding: 0 0 0 0;\n",
              "      width: 32px;\n",
              "    }\n",
              "\n",
              "    .colab-df-convert:hover {\n",
              "      background-color: #E2EBFA;\n",
              "      box-shadow: 0px 1px 2px rgba(60, 64, 67, 0.3), 0px 1px 3px 1px rgba(60, 64, 67, 0.15);\n",
              "      fill: #174EA6;\n",
              "    }\n",
              "\n",
              "    [theme=dark] .colab-df-convert {\n",
              "      background-color: #3B4455;\n",
              "      fill: #D2E3FC;\n",
              "    }\n",
              "\n",
              "    [theme=dark] .colab-df-convert:hover {\n",
              "      background-color: #434B5C;\n",
              "      box-shadow: 0px 1px 3px 1px rgba(0, 0, 0, 0.15);\n",
              "      filter: drop-shadow(0px 1px 2px rgba(0, 0, 0, 0.3));\n",
              "      fill: #FFFFFF;\n",
              "    }\n",
              "  </style>\n",
              "\n",
              "      <script>\n",
              "        const buttonEl =\n",
              "          document.querySelector('#df-38c73dab-caf3-4677-a156-8eb011c6b6de button.colab-df-convert');\n",
              "        buttonEl.style.display =\n",
              "          google.colab.kernel.accessAllowed ? 'block' : 'none';\n",
              "\n",
              "        async function convertToInteractive(key) {\n",
              "          const element = document.querySelector('#df-38c73dab-caf3-4677-a156-8eb011c6b6de');\n",
              "          const dataTable =\n",
              "            await google.colab.kernel.invokeFunction('convertToInteractive',\n",
              "                                                     [key], {});\n",
              "          if (!dataTable) return;\n",
              "\n",
              "          const docLinkHtml = 'Like what you see? Visit the ' +\n",
              "            '<a target=\"_blank\" href=https://colab.research.google.com/notebooks/data_table.ipynb>data table notebook</a>'\n",
              "            + ' to learn more about interactive tables.';\n",
              "          element.innerHTML = '';\n",
              "          dataTable['output_type'] = 'display_data';\n",
              "          await google.colab.output.renderOutput(dataTable, element);\n",
              "          const docLink = document.createElement('div');\n",
              "          docLink.innerHTML = docLinkHtml;\n",
              "          element.appendChild(docLink);\n",
              "        }\n",
              "      </script>\n",
              "    </div>\n",
              "  </div>\n",
              "  "
            ]
          },
          "metadata": {},
          "execution_count": 4
        }
      ]
    },
    {
      "cell_type": "markdown",
      "source": [
        "This shows the array of numbers"
      ],
      "metadata": {
        "id": "SD2yv8N6ecQU"
      }
    },
    {
      "cell_type": "code",
      "source": [
        "data = np.array(data)"
      ],
      "metadata": {
        "id": "405OIu0auIDH"
      },
      "execution_count": null,
      "outputs": []
    },
    {
      "cell_type": "markdown",
      "source": [
        "This corelates to the values with the colors asscocated "
      ],
      "metadata": {
        "id": "7SO9LggQegWa"
      }
    },
    {
      "cell_type": "code",
      "source": [
        "data"
      ],
      "metadata": {
        "colab": {
          "base_uri": "https://localhost:8080/"
        },
        "id": "_KJVMisrvs-G",
        "outputId": "9b2dd023-2339-45c6-dbe4-f9800bf44b09"
      },
      "execution_count": null,
      "outputs": [
        {
          "output_type": "execute_result",
          "data": {
            "text/plain": [
              "array([['8/28/2022 23:44:49', 'Blue'],\n",
              "       ['8/28/2022 23:47:16', 'Red'],\n",
              "       ['10/10/2022 12:04:51', 'Red'],\n",
              "       ['10/10/2022 12:04:56', 'Green'],\n",
              "       ['10/10/2022 12:04:56', 'Green'],\n",
              "       ['10/10/2022 12:04:59', 'Blue'],\n",
              "       ['10/10/2022 12:05:05', 'Pink'],\n",
              "       ['10/10/2022 12:05:09', 'Purple'],\n",
              "       ['10/10/2022 12:05:23', 'Blue'],\n",
              "       ['10/10/2022 12:05:24', 'Pink'],\n",
              "       ['10/10/2022 12:05:26', 'Pink'],\n",
              "       ['10/10/2022 12:05:29', 'Blue'],\n",
              "       ['10/10/2022 12:05:30', 'Blue'],\n",
              "       ['10/10/2022 12:05:35', 'Blue'],\n",
              "       ['10/10/2022 12:05:39', 'Red'],\n",
              "       ['10/10/2022 12:05:40', 'Red'],\n",
              "       ['10/10/2022 12:05:40', 'Blue'],\n",
              "       ['10/10/2022 12:05:48', 'Purple'],\n",
              "       ['10/10/2022 12:05:48', 'Green'],\n",
              "       ['10/10/2022 12:06:04', 'Green'],\n",
              "       ['10/10/2022 12:06:08', 'Blue'],\n",
              "       ['10/10/2022 12:06:10', 'Pink'],\n",
              "       ['10/10/2022 12:06:15', 'Blue'],\n",
              "       ['10/10/2022 12:06:18', 'Purple'],\n",
              "       ['10/10/2022 12:06:19', 'Blue'],\n",
              "       ['10/10/2022 12:06:34', 'Purple'],\n",
              "       ['10/10/2022 12:06:35', 'Pink'],\n",
              "       ['10/10/2022 12:07:03', 'Pink'],\n",
              "       ['10/10/2022 12:07:03', 'Purple'],\n",
              "       ['10/10/2022 12:07:21', 'Blue'],\n",
              "       ['10/10/2022 12:07:24', 'Purple'],\n",
              "       ['10/10/2022 12:07:32', 'Red'],\n",
              "       ['10/10/2022 12:07:41', 'Green'],\n",
              "       ['10/10/2022 12:08:22', 'Blue'],\n",
              "       ['10/10/2022 12:08:24', 'Green']], dtype=object)"
            ]
          },
          "metadata": {},
          "execution_count": 7
        }
      ]
    },
    {
      "cell_type": "code",
      "source": [
        "data.shape"
      ],
      "metadata": {
        "colab": {
          "base_uri": "https://localhost:8080/"
        },
        "id": "bDnV7LcqqKJO",
        "outputId": "0745975d-67c5-475a-89ab-9e36a81830f2"
      },
      "execution_count": null,
      "outputs": [
        {
          "output_type": "execute_result",
          "data": {
            "text/plain": [
              "(35, 2)"
            ]
          },
          "metadata": {},
          "execution_count": 8
        }
      ]
    },
    {
      "cell_type": "markdown",
      "source": [
        "The data of colors"
      ],
      "metadata": {
        "id": "V_Zt6GhqennY"
      }
    },
    {
      "cell_type": "code",
      "source": [
        "colors = data[:,1]"
      ],
      "metadata": {
        "id": "_81y4Z_pvwnC"
      },
      "execution_count": null,
      "outputs": []
    },
    {
      "cell_type": "code",
      "source": [
        "colors"
      ],
      "metadata": {
        "colab": {
          "base_uri": "https://localhost:8080/"
        },
        "id": "DdRvwfeUv1Wr",
        "outputId": "2d64543a-f871-46ea-9f82-bdac96a3d502"
      },
      "execution_count": null,
      "outputs": [
        {
          "output_type": "execute_result",
          "data": {
            "text/plain": [
              "array(['Blue', 'Red', 'Red', 'Green', 'Green', 'Blue', 'Pink', 'Purple',\n",
              "       'Blue', 'Pink', 'Pink', 'Blue', 'Blue', 'Blue', 'Red', 'Red',\n",
              "       'Blue', 'Purple', 'Green', 'Green', 'Blue', 'Pink', 'Blue',\n",
              "       'Purple', 'Blue', 'Purple', 'Pink', 'Pink', 'Purple', 'Blue',\n",
              "       'Purple', 'Red', 'Green', 'Blue', 'Green'], dtype=object)"
            ]
          },
          "metadata": {},
          "execution_count": 12
        }
      ]
    },
    {
      "cell_type": "code",
      "source": [
        "colors == 'Red'"
      ],
      "metadata": {
        "colab": {
          "base_uri": "https://localhost:8080/"
        },
        "id": "mzvCW4kYqe7m",
        "outputId": "6be2cdac-d186-4d5a-bf49-573aa4d64a9e"
      },
      "execution_count": null,
      "outputs": [
        {
          "output_type": "execute_result",
          "data": {
            "text/plain": [
              "array([False,  True,  True, False, False, False, False, False, False,\n",
              "       False, False, False, False, False,  True,  True, False, False,\n",
              "       False, False, False, False, False, False, False, False, False,\n",
              "       False, False, False, False,  True, False, False, False])"
            ]
          },
          "metadata": {},
          "execution_count": 13
        }
      ]
    },
    {
      "cell_type": "markdown",
      "source": [
        "This will assign the count of the sum for colors"
      ],
      "metadata": {
        "id": "gkbp9jCIeql6"
      }
    },
    {
      "cell_type": "code",
      "source": [
        "red_count = np.sum(colors == 'Red')"
      ],
      "metadata": {
        "id": "POEt2j5cv2CM"
      },
      "execution_count": null,
      "outputs": []
    },
    {
      "cell_type": "code",
      "source": [
        "blue_count = np.sum(colors == 'Red')"
      ],
      "metadata": {
        "id": "JtcoqKGMv9LH"
      },
      "execution_count": null,
      "outputs": []
    },
    {
      "cell_type": "markdown",
      "source": [
        "We have a red count and a blue count"
      ],
      "metadata": {
        "id": "6q4jCEIievzU"
      }
    },
    {
      "cell_type": "code",
      "source": [
        "names = ['Red', 'Blue']\n",
        "values = [red_count, blue_count]\n",
        "\n",
        "plt.bar(names, values, color=['red', 'blue'])"
      ],
      "metadata": {
        "colab": {
          "base_uri": "https://localhost:8080/",
          "height": 283
        },
        "id": "-Z370D3OwLhL",
        "outputId": "b0b60fcb-5982-4b7a-de5b-efd26b7b216d"
      },
      "execution_count": null,
      "outputs": [
        {
          "output_type": "execute_result",
          "data": {
            "text/plain": [
              "<BarContainer object of 2 artists>"
            ]
          },
          "metadata": {},
          "execution_count": 17
        },
        {
          "output_type": "display_data",
          "data": {
            "text/plain": [
              "<Figure size 432x288 with 1 Axes>"
            ],
            "image/png": "[encoded data removed]"
          },
          "metadata": {
            "needs_background": "light"
          }
        }
      ]
    },
    {
      "cell_type": "code",
      "source": [],
      "metadata": {
        "id": "NGo3bfFOwV3z"
      },
      "execution_count": null,
      "outputs": []
    },
    {
      "cell_type": "code",
      "source": [],
      "metadata": {
        "id": "m-4f2U80ywQs"
      },
      "execution_count": null,
      "outputs": []
    },
    {
      "cell_type": "markdown",
      "source": [
        "https://forms.gle/Pkq5dn39V63Jdu9q6\n",
        "\n",
        "\n"
      ],
      "metadata": {
        "id": "pGS734Qw_Lsy"
      }
    },
    {
      "cell_type": "markdown",
      "source": [
        "To link a spreadsheet"
      ],
      "metadata": {
        "id": "PEjGa5h3ez-Y"
      }
    },
    {
      "cell_type": "code",
      "source": [
        "url = 'https://docs.google.com/spreadsheets/d/1NaqYAoKwbDhIvscnZw25CjRZS5zBTDgMZfxZbyttiMA/edit?usp=sharing'"
      ],
      "metadata": {
        "id": "RhZG-d4-pLeF"
      },
      "execution_count": null,
      "outputs": []
    },
    {
      "cell_type": "code",
      "source": [
        "data = get_database(url)"
      ],
      "metadata": {
        "id": "n67aee0PpLeG"
      },
      "execution_count": null,
      "outputs": []
    },
    {
      "cell_type": "code",
      "source": [
        "data"
      ],
      "metadata": {
        "colab": {
          "base_uri": "https://localhost:8080/",
          "height": 582
        },
        "outputId": "e5393eb3-8179-4fc1-96e4-f579c9815f32",
        "id": "oCidiQiMpLeH"
      },
      "execution_count": null,
      "outputs": [
        {
          "output_type": "execute_result",
          "data": {
            "text/plain": [
              "              Timestamp What is your major?\n",
              "0   10/10/2022 12:14:04           Marketing\n",
              "1   10/10/2022 12:14:23          Accounting\n",
              "2   10/10/2022 12:14:24                Math\n",
              "3   10/10/2022 12:14:24            Business\n",
              "4   10/10/2022 12:14:26            Business\n",
              "5   10/10/2022 12:14:28          Accounting\n",
              "6   10/10/2022 12:14:28          Accounting\n",
              "7   10/10/2022 12:14:30      Health Science\n",
              "8   10/10/2022 12:14:31      Health Science\n",
              "9   10/10/2022 12:14:33    Criminal Justice\n",
              "10  10/10/2022 12:14:35    Exercise Science\n",
              "11  10/10/2022 12:14:36      Health Science\n",
              "12  10/10/2022 12:14:38           Marketing\n",
              "13  10/10/2022 12:14:38             Geology\n",
              "14  10/10/2022 12:14:58      Health Science\n",
              "15  10/10/2022 12:15:02    Exercise Science\n",
              "16  10/10/2022 12:15:13             Geology"
            ],
            "text/html": [
              "\n",
              "  <div id=\"df-682379f4-0f25-4c70-aa89-21702a6a7551\">\n",
              "    <div class=\"colab-df-container\">\n",
              "      <div>\n",
              "<style scoped>\n",
              "    .dataframe tbody tr th:only-of-type {\n",
              "        vertical-align: middle;\n",
              "    }\n",
              "\n",
              "    .dataframe tbody tr th {\n",
              "        vertical-align: top;\n",
              "    }\n",
              "\n",
              "    .dataframe thead th {\n",
              "        text-align: right;\n",
              "    }\n",
              "</style>\n",
              "<table border=\"1\" class=\"dataframe\">\n",
              "  <thead>\n",
              "    <tr style=\"text-align: right;\">\n",
              "      <th></th>\n",
              "      <th>Timestamp</th>\n",
              "      <th>What is your major?</th>\n",
              "    </tr>\n",
              "  </thead>\n",
              "  <tbody>\n",
              "    <tr>\n",
              "      <th>0</th>\n",
              "      <td>10/10/2022 12:14:04</td>\n",
              "      <td>Marketing</td>\n",
              "    </tr>\n",
              "    <tr>\n",
              "      <th>1</th>\n",
              "      <td>10/10/2022 12:14:23</td>\n",
              "      <td>Accounting</td>\n",
              "    </tr>\n",
              "    <tr>\n",
              "      <th>2</th>\n",
              "      <td>10/10/2022 12:14:24</td>\n",
              "      <td>Math</td>\n",
              "    </tr>\n",
              "    <tr>\n",
              "      <th>3</th>\n",
              "      <td>10/10/2022 12:14:24</td>\n",
              "      <td>Business</td>\n",
              "    </tr>\n",
              "    <tr>\n",
              "      <th>4</th>\n",
              "      <td>10/10/2022 12:14:26</td>\n",
              "      <td>Business</td>\n",
              "    </tr>\n",
              "    <tr>\n",
              "      <th>5</th>\n",
              "      <td>10/10/2022 12:14:28</td>\n",
              "      <td>Accounting</td>\n",
              "    </tr>\n",
              "    <tr>\n",
              "      <th>6</th>\n",
              "      <td>10/10/2022 12:14:28</td>\n",
              "      <td>Accounting</td>\n",
              "    </tr>\n",
              "    <tr>\n",
              "      <th>7</th>\n",
              "      <td>10/10/2022 12:14:30</td>\n",
              "      <td>Health Science</td>\n",
              "    </tr>\n",
              "    <tr>\n",
              "      <th>8</th>\n",
              "      <td>10/10/2022 12:14:31</td>\n",
              "      <td>Health Science</td>\n",
              "    </tr>\n",
              "    <tr>\n",
              "      <th>9</th>\n",
              "      <td>10/10/2022 12:14:33</td>\n",
              "      <td>Criminal Justice</td>\n",
              "    </tr>\n",
              "    <tr>\n",
              "      <th>10</th>\n",
              "      <td>10/10/2022 12:14:35</td>\n",
              "      <td>Exercise Science</td>\n",
              "    </tr>\n",
              "    <tr>\n",
              "      <th>11</th>\n",
              "      <td>10/10/2022 12:14:36</td>\n",
              "      <td>Health Science</td>\n",
              "    </tr>\n",
              "    <tr>\n",
              "      <th>12</th>\n",
              "      <td>10/10/2022 12:14:38</td>\n",
              "      <td>Marketing</td>\n",
              "    </tr>\n",
              "    <tr>\n",
              "      <th>13</th>\n",
              "      <td>10/10/2022 12:14:38</td>\n",
              "      <td>Geology</td>\n",
              "    </tr>\n",
              "    <tr>\n",
              "      <th>14</th>\n",
              "      <td>10/10/2022 12:14:58</td>\n",
              "      <td>Health Science</td>\n",
              "    </tr>\n",
              "    <tr>\n",
              "      <th>15</th>\n",
              "      <td>10/10/2022 12:15:02</td>\n",
              "      <td>Exercise Science</td>\n",
              "    </tr>\n",
              "    <tr>\n",
              "      <th>16</th>\n",
              "      <td>10/10/2022 12:15:13</td>\n",
              "      <td>Geology</td>\n",
              "    </tr>\n",
              "  </tbody>\n",
              "</table>\n",
              "</div>\n",
              "      <button class=\"colab-df-convert\" onclick=\"convertToInteractive('df-682379f4-0f25-4c70-aa89-21702a6a7551')\"\n",
              "              title=\"Convert this dataframe to an interactive table.\"\n",
              "              style=\"display:none;\">\n",
              "        \n",
              "  <svg xmlns=\"http://www.w3.org/2000/svg\" height=\"24px\"viewBox=\"0 0 24 24\"\n",
              "       width=\"24px\">\n",
              "    <path d=\"M0 0h24v24H0V0z\" fill=\"none\"/>\n",
              "    <path d=\"M18.56 5.44l.94 2.06.94-2.06 2.06-.94-2.06-.94-.94-2.06-.94 2.06-2.06.94zm-11 1L8.5 8.5l.94-2.06 2.06-.94-2.06-.94L8.5 2.5l-.94 2.06-2.06.94zm10 10l.94 2.06.94-2.06 2.06-.94-2.06-.94-.94-2.06-.94 2.06-2.06.94z\"/><path d=\"M17.41 7.96l-1.37-1.37c-.4-.4-.92-.59-1.43-.59-.52 0-1.04.2-1.43.59L10.3 9.45l-7.72 7.72c-.78.78-.78 2.05 0 2.83L4 21.41c.39.39.9.59 1.41.59.51 0 1.02-.2 1.41-.59l7.78-7.78 2.81-2.81c.8-.78.8-2.07 0-2.86zM5.41 20L4 18.59l7.72-7.72 1.47 1.35L5.41 20z\"/>\n",
              "  </svg>\n",
              "      </button>\n",
              "      \n",
              "  <style>\n",
              "    .colab-df-container {\n",
              "      display:flex;\n",
              "      flex-wrap:wrap;\n",
              "      gap: 12px;\n",
              "    }\n",
              "\n",
              "    .colab-df-convert {\n",
              "      background-color: #E8F0FE;\n",
              "      border: none;\n",
              "      border-radius: 50%;\n",
              "      cursor: pointer;\n",
              "      display: none;\n",
              "      fill: #1967D2;\n",
              "      height: 32px;\n",
              "      padding: 0 0 0 0;\n",
              "      width: 32px;\n",
              "    }\n",
              "\n",
              "    .colab-df-convert:hover {\n",
              "      background-color: #E2EBFA;\n",
              "      box-shadow: 0px 1px 2px rgba(60, 64, 67, 0.3), 0px 1px 3px 1px rgba(60, 64, 67, 0.15);\n",
              "      fill: #174EA6;\n",
              "    }\n",
              "\n",
              "    [theme=dark] .colab-df-convert {\n",
              "      background-color: #3B4455;\n",
              "      fill: #D2E3FC;\n",
              "    }\n",
              "\n",
              "    [theme=dark] .colab-df-convert:hover {\n",
              "      background-color: #434B5C;\n",
              "      box-shadow: 0px 1px 3px 1px rgba(0, 0, 0, 0.15);\n",
              "      filter: drop-shadow(0px 1px 2px rgba(0, 0, 0, 0.3));\n",
              "      fill: #FFFFFF;\n",
              "    }\n",
              "  </style>\n",
              "\n",
              "      <script>\n",
              "        const buttonEl =\n",
              "          document.querySelector('#df-682379f4-0f25-4c70-aa89-21702a6a7551 button.colab-df-convert');\n",
              "        buttonEl.style.display =\n",
              "          google.colab.kernel.accessAllowed ? 'block' : 'none';\n",
              "\n",
              "        async function convertToInteractive(key) {\n",
              "          const element = document.querySelector('#df-682379f4-0f25-4c70-aa89-21702a6a7551');\n",
              "          const dataTable =\n",
              "            await google.colab.kernel.invokeFunction('convertToInteractive',\n",
              "                                                     [key], {});\n",
              "          if (!dataTable) return;\n",
              "\n",
              "          const docLinkHtml = 'Like what you see? Visit the ' +\n",
              "            '<a target=\"_blank\" href=https://colab.research.google.com/notebooks/data_table.ipynb>data table notebook</a>'\n",
              "            + ' to learn more about interactive tables.';\n",
              "          element.innerHTML = '';\n",
              "          dataTable['output_type'] = 'display_data';\n",
              "          await google.colab.output.renderOutput(dataTable, element);\n",
              "          const docLink = document.createElement('div');\n",
              "          docLink.innerHTML = docLinkHtml;\n",
              "          element.appendChild(docLink);\n",
              "        }\n",
              "      </script>\n",
              "    </div>\n",
              "  </div>\n",
              "  "
            ]
          },
          "metadata": {},
          "execution_count": 20
        }
      ]
    },
    {
      "cell_type": "markdown",
      "source": [
        "Data in the arrangeement "
      ],
      "metadata": {
        "id": "T_fipbQae3Os"
      }
    },
    {
      "cell_type": "code",
      "source": [
        "data = np.array(data)"
      ],
      "metadata": {
        "id": "R5ic_hxCqOBR"
      },
      "execution_count": null,
      "outputs": []
    },
    {
      "cell_type": "code",
      "source": [
        "data.shape"
      ],
      "metadata": {
        "colab": {
          "base_uri": "https://localhost:8080/"
        },
        "id": "_OPpuRRErDRq",
        "outputId": "197b93a2-6416-4759-dc2c-ad2def5f9453"
      },
      "execution_count": null,
      "outputs": [
        {
          "output_type": "execute_result",
          "data": {
            "text/plain": [
              "(17, 2)"
            ]
          },
          "metadata": {},
          "execution_count": 37
        }
      ]
    },
    {
      "cell_type": "code",
      "source": [
        "majors = data[:,1]"
      ],
      "metadata": {
        "id": "OSk3DYFwrD5S"
      },
      "execution_count": null,
      "outputs": []
    },
    {
      "cell_type": "code",
      "source": [
        "majors"
      ],
      "metadata": {
        "colab": {
          "base_uri": "https://localhost:8080/"
        },
        "id": "wyJecJ0yroSI",
        "outputId": "cff11d6b-be46-4b10-e34d-7edd49bed7c7"
      },
      "execution_count": null,
      "outputs": [
        {
          "output_type": "execute_result",
          "data": {
            "text/plain": [
              "array(['Marketing', 'Accounting', 'Math', 'Business', 'Business',\n",
              "       'Accounting', 'Accounting', 'Health Science', 'Health Science',\n",
              "       'Criminal Justice', 'Exercise Science', 'Health Science',\n",
              "       'Marketing', 'Geology', 'Health Science', 'Exercise Science',\n",
              "       'Geology'], dtype=object)"
            ]
          },
          "metadata": {},
          "execution_count": 39
        }
      ]
    },
    {
      "cell_type": "markdown",
      "source": [
        "We can also do majors"
      ],
      "metadata": {
        "id": "o4D2cGo4e55M"
      }
    },
    {
      "cell_type": "code",
      "source": [
        "majors == 'Math'"
      ],
      "metadata": {
        "colab": {
          "base_uri": "https://localhost:8080/"
        },
        "id": "5QD8bTfKrrBH",
        "outputId": "feee5028-5d8a-4313-b047-93c6bd3688f7"
      },
      "execution_count": null,
      "outputs": [
        {
          "output_type": "execute_result",
          "data": {
            "text/plain": [
              "array([False, False,  True, False, False, False, False, False, False,\n",
              "       False, False, False, False, False, False, False, False])"
            ]
          },
          "metadata": {},
          "execution_count": 27
        }
      ]
    },
    {
      "cell_type": "code",
      "source": [
        "np.sum(majors == 'Math')"
      ],
      "metadata": {
        "colab": {
          "base_uri": "https://localhost:8080/"
        },
        "id": "cSNflfMervTv",
        "outputId": "a20909ed-4972-45a2-98c6-f9c396abb5ff"
      },
      "execution_count": null,
      "outputs": [
        {
          "output_type": "execute_result",
          "data": {
            "text/plain": [
              "1"
            ]
          },
          "metadata": {},
          "execution_count": 28
        }
      ]
    },
    {
      "cell_type": "code",
      "source": [
        "Computer_Science = np.sum(majors == 'Computer Science')\n",
        "English = np.sum(majors == 'English')\n",
        "Accounting = np.sum(majors == 'Accounting')"
      ],
      "metadata": {
        "id": "8YvmiKHJrIqr"
      },
      "execution_count": null,
      "outputs": []
    },
    {
      "cell_type": "markdown",
      "source": [
        "Some majors are math and other subjects"
      ],
      "metadata": {
        "id": "AgDtRt4te-WV"
      }
    },
    {
      "cell_type": "code",
      "source": [
        "Math = np.sum(majors == 'Math')\n",
        "Marketing = np.sum(majors == 'Marketing')"
      ],
      "metadata": {
        "id": "SD3_9-D_r5Hf"
      },
      "execution_count": null,
      "outputs": []
    },
    {
      "cell_type": "code",
      "source": [
        "Math"
      ],
      "metadata": {
        "colab": {
          "base_uri": "https://localhost:8080/"
        },
        "id": "px-8AuzGr_vA",
        "outputId": "caef75e0-2c86-4c06-bb94-2f4f8cc939b4"
      },
      "execution_count": null,
      "outputs": [
        {
          "output_type": "execute_result",
          "data": {
            "text/plain": [
              "1"
            ]
          },
          "metadata": {},
          "execution_count": 41
        }
      ]
    },
    {
      "cell_type": "markdown",
      "source": [
        "We will use marketing as a example"
      ],
      "metadata": {
        "id": "bBCJqx2ZfBc9"
      }
    },
    {
      "cell_type": "code",
      "source": [
        "Marketing"
      ],
      "metadata": {
        "colab": {
          "base_uri": "https://localhost:8080/"
        },
        "id": "qH77pIZxsA2Q",
        "outputId": "5a7a69f2-5d23-4980-d526-67db6e788720"
      },
      "execution_count": null,
      "outputs": [
        {
          "output_type": "execute_result",
          "data": {
            "text/plain": [
              "2"
            ]
          },
          "metadata": {},
          "execution_count": 42
        }
      ]
    },
    {
      "cell_type": "code",
      "source": [
        "names = ['Math', 'Marketing']\n",
        "values = [Math, Marketing]\n",
        "\n",
        "plt.bar(names, values)"
      ],
      "metadata": {
        "colab": {
          "base_uri": "https://localhost:8080/",
          "height": 283
        },
        "outputId": "4d50542b-fd08-4051-9aeb-4dafa510b491",
        "id": "hcj-U3CDrIqs"
      },
      "execution_count": null,
      "outputs": [
        {
          "output_type": "execute_result",
          "data": {
            "text/plain": [
              "<BarContainer object of 2 artists>"
            ]
          },
          "metadata": {},
          "execution_count": 43
        },
        {
          "output_type": "display_data",
          "data": {
            "text/plain": [
              "<Figure size 432x288 with 1 Axes>"
            ],
            "image/png": "[encoded data removed]"
          },
          "metadata": {
            "needs_background": "light"
          }
        }
      ]
    },
    {
      "cell_type": "markdown",
      "source": [
        "Here a data plot for other majors out there"
      ],
      "metadata": {
        "id": "K9ycn4SPfGoh"
      }
    },
    {
      "cell_type": "code",
      "source": [
        "majors"
      ],
      "metadata": {
        "colab": {
          "base_uri": "https://localhost:8080/"
        },
        "id": "2_oUFTgdt_At",
        "outputId": "3ec3ef68-dba8-4691-ae3d-887172d2d1fa"
      },
      "execution_count": null,
      "outputs": [
        {
          "output_type": "execute_result",
          "data": {
            "text/plain": [
              "array(['Marketing', 'Accounting', 'Math', 'Business', 'Business',\n",
              "       'Accounting', 'Accounting', 'Health Science', 'Health Science',\n",
              "       'Criminal Justice', 'Exercise Science', 'Health Science',\n",
              "       'Marketing', 'Geology', 'Health Science', 'Exercise Science',\n",
              "       'Geology'], dtype=object)"
            ]
          },
          "metadata": {},
          "execution_count": 35
        }
      ]
    },
    {
      "cell_type": "code",
      "source": [],
      "metadata": {
        "id": "S_o6MO-MuP_1"
      },
      "execution_count": null,
      "outputs": []
    },
    {
      "cell_type": "markdown",
      "source": [
        "To develop learning operations using majors"
      ],
      "metadata": {
        "id": "UGnoLq0ZfLcz"
      }
    },
    {
      "cell_type": "code",
      "source": [
        "D = {}\n",
        "\n",
        "for major in majors:\n",
        "    \n",
        "    count = np.sum(majors == major)\n",
        "\n",
        "    print(major, count)\n",
        "\n",
        "    D[major] = count"
      ],
      "metadata": {
        "colab": {
          "base_uri": "https://localhost:8080/"
        },
        "id": "P7uwGTDHt_Dc",
        "outputId": "24ebcc45-833a-443c-f846-f85586933a71"
      },
      "execution_count": null,
      "outputs": [
        {
          "output_type": "stream",
          "name": "stdout",
          "text": [
            "Marketing 2\n",
            "Accounting 3\n",
            "Math 1\n",
            "Business 2\n",
            "Business 2\n",
            "Accounting 3\n",
            "Accounting 3\n",
            "Health Science 4\n",
            "Health Science 4\n",
            "Criminal Justice 1\n",
            "Exercise Science 2\n",
            "Health Science 4\n",
            "Marketing 2\n",
            "Geology 2\n",
            "Health Science 4\n",
            "Exercise Science 2\n",
            "Geology 2\n"
          ]
        }
      ]
    },
    {
      "cell_type": "code",
      "source": [
        "D.keys()"
      ],
      "metadata": {
        "colab": {
          "base_uri": "https://localhost:8080/"
        },
        "id": "BC8cg2eMsZRY",
        "outputId": "39230406-a6d2-451b-f370-fefb2e353489"
      },
      "execution_count": null,
      "outputs": [
        {
          "output_type": "execute_result",
          "data": {
            "text/plain": [
              "dict_keys(['Marketing', 'Accounting', 'Math', 'Business', 'Health Science', 'Criminal Justice', 'Exercise Science', 'Geology'])"
            ]
          },
          "metadata": {},
          "execution_count": 47
        }
      ]
    },
    {
      "cell_type": "markdown",
      "source": [
        "Applications such as direct values"
      ],
      "metadata": {
        "id": "8x9ex8L7fasP"
      }
    },
    {
      "cell_type": "code",
      "source": [
        "D.values()"
      ],
      "metadata": {
        "colab": {
          "base_uri": "https://localhost:8080/"
        },
        "id": "tlgQNsdzscMI",
        "outputId": "a9b60f76-00ac-41be-90b8-106af05f7468"
      },
      "execution_count": null,
      "outputs": [
        {
          "output_type": "execute_result",
          "data": {
            "text/plain": [
              "dict_values([2, 3, 1, 2, 4, 1, 2, 2])"
            ]
          },
          "metadata": {},
          "execution_count": 48
        }
      ]
    },
    {
      "cell_type": "markdown",
      "source": [
        "Shortcuts to execcute a cell for the names and values"
      ],
      "metadata": {
        "id": "UL7jYcKqfj2c"
      }
    },
    {
      "cell_type": "code",
      "source": [
        "names = list(D.keys())\n",
        "values = list(D.values())\n",
        "\n",
        "N = len(names)\n",
        "cmap = plt.cm.tab10\n",
        "colors = cmap(np.arange(N) % cmap.N)\n",
        "\n",
        "plt.bar(range(len(D)), values, tick_label=names, color = colors)\n",
        "plt.show()"
      ],
      "metadata": {
        "colab": {
          "base_uri": "https://localhost:8080/",
          "height": 265
        },
        "id": "fxqpPdkJt_F_",
        "outputId": "bc48dfe4-2b89-45e8-8c55-86755c2bc999"
      },
      "execution_count": null,
      "outputs": [
        {
          "output_type": "display_data",
          "data": {
            "text/plain": [
              "<Figure size 432x288 with 1 Axes>"
            ],
            "image/png": "[encoded data removed]"
          },
          "metadata": {
            "needs_background": "light"
          }
        }
      ]
    },
    {
      "cell_type": "code",
      "source": [],
      "metadata": {
        "id": "DIH869kcwhQj"
      },
      "execution_count": null,
      "outputs": []
    },
    {
      "cell_type": "code",
      "source": [],
      "metadata": {
        "id": "X_dgeJmKts3J"
      },
      "execution_count": null,
      "outputs": []
    },
    {
      "cell_type": "markdown",
      "source": [
        "# Ice Cream\n",
        "https://forms.gle/r2wLRSyuTb79dynY6"
      ],
      "metadata": {
        "id": "Sk0xXtGkttBB"
      }
    },
    {
      "cell_type": "code",
      "source": [
        "url_ice_cream = \"https://docs.google.com/spreadsheets/d/1J_xuTprgXEmWRLmkROpc-YQ2S-cTOLkk0OWAfX4br_0/edit?usp=sharing\""
      ],
      "metadata": {
        "id": "g4KQgT6VttaY"
      },
      "execution_count": null,
      "outputs": []
    },
    {
      "cell_type": "code",
      "source": [
        "data = get_database(url_ice_cream)"
      ],
      "metadata": {
        "id": "o5FzjRUjud1q"
      },
      "execution_count": null,
      "outputs": []
    },
    {
      "cell_type": "code",
      "source": [
        "data"
      ],
      "metadata": {
        "colab": {
          "base_uri": "https://localhost:8080/",
          "height": 1000
        },
        "outputId": "41b07ee6-62c6-4949-9000-78de6a573b87",
        "id": "C_VocHZnud1q"
      },
      "execution_count": null,
      "outputs": [
        {
          "output_type": "execute_result",
          "data": {
            "text/plain": [
              "              Timestamp       Fav Ice Cream Cup / Cone / Cookie Sandwich  \\\n",
              "0   10/10/2022 12:26:06        Cookie Dough              Cookie Sandwich   \n",
              "1   10/10/2022 12:26:14        Butter Pecan                         Cone   \n",
              "2   10/10/2022 12:26:19               Mango                          Cup   \n",
              "3   10/10/2022 12:26:19                Mint                         Cone   \n",
              "4   10/10/2022 12:26:21        Cookie Dough                          Cup   \n",
              "5   10/10/2022 12:26:22    Cookie and Cream                          Cup   \n",
              "6   10/10/2022 12:26:22           Chocolate                          Cup   \n",
              "7   10/10/2022 12:26:29           Chocolate                          Cup   \n",
              "8   10/10/2022 12:26:30                Mint              Cookie Sandwich   \n",
              "9   10/10/2022 12:26:32            Vanillia              Cookie Sandwich   \n",
              "10  10/10/2022 12:26:36       Birthday Cake                         Cone   \n",
              "11  10/10/2022 12:26:39        Cookie Dough                          Cup   \n",
              "12  10/10/2022 12:26:40           Chocolate                         Cone   \n",
              "13  10/10/2022 12:26:41           Chocolate                         Cone   \n",
              "14  10/10/2022 12:26:50           Chocolate                         Cone   \n",
              "15  10/10/2022 12:26:51           Chocolate                          Cup   \n",
              "16  10/10/2022 12:26:51          Strawberry                         Cone   \n",
              "17  10/10/2022 12:26:57    Cookie and Cream                         Cone   \n",
              "18  10/10/2022 12:26:59        Butter Pecan                          Cup   \n",
              "19  10/10/2022 12:27:01           Chocolate                          Cup   \n",
              "20  10/10/2022 12:27:01          Strawberry                          Cup   \n",
              "21  10/10/2022 12:27:07    Cookie and Cream                         Cone   \n",
              "22  10/10/2022 12:27:08            Vanillia                          Cup   \n",
              "23  10/10/2022 12:27:13               Mango                         Cone   \n",
              "24  10/10/2022 12:27:16           Chocolate                         Cone   \n",
              "25  10/10/2022 12:27:21        Cookie Dough                         Cone   \n",
              "26  10/10/2022 12:27:24    Cookie and Cream                         Cone   \n",
              "27  10/10/2022 12:27:30               Mango                          Cup   \n",
              "28  10/10/2022 12:27:39  Pralines and Cream                         Cone   \n",
              "29  10/10/2022 12:28:06           Chocolate              Cookie Sandwich   \n",
              "30  10/10/2022 12:28:19                Mint              Cookie Sandwich   \n",
              "\n",
              "                            Toppings                     Special Requests:  \n",
              "0                            Caramel                           Warm Cookie  \n",
              "1                            Caramel                                   NaN  \n",
              "2                          Sprinkles                                  none  \n",
              "3                       Marshmallows                         Whipped cream  \n",
              "4                          Sprinkles                                 oreos  \n",
              "5   Sprinkles, Caramel, Marshmallows                                   NaN  \n",
              "6            Caramel, Gummies, Candy                              brownies  \n",
              "7                          Sprinkles                    no special request  \n",
              "8                            Caramel            Make the cookies chocolate  \n",
              "9                              Fudge                                     .  \n",
              "10                Sprinkles, Caramel                                   N/a  \n",
              "11                Chips, Nuts, Candy                                takis   \n",
              "12  Sprinkles, Chips, Gummies, Candy                                to go   \n",
              "13                             Fudge                         whipped cream  \n",
              "14                         Sprinkles                   soft serve only tho  \n",
              "15                             Candy                            soft serve  \n",
              "16             Caramel, Marshmallows        only cake cone not waffle cone  \n",
              "17          Sprinkles, Nuts, Gummies                                  None  \n",
              "18                              Nuts                              Cherries  \n",
              "19                             Chips             Cake cones > waffle cones  \n",
              "20                           Gummies                                   NaN  \n",
              "21                         Sprinkles                           No toppings  \n",
              "22                     Caramel, Nuts                   Whip Cream as well   \n",
              "23                             Chips                                  none  \n",
              "24         Sprinkles, Fudge, Caramel                                    No  \n",
              "25         Sprinkles, Fudge, Caramel                                     -  \n",
              "26                             Chips                            Ice cream   \n",
              "27                      Marshmallows                         with caramel   \n",
              "28  Sprinkles, Chips, Fudge, Caramel  chocolate coated waffle cone (fresh)  \n",
              "29                Sprinkles, Caramel                                  m&ms  \n",
              "30                    Fudge, Caramel            make the cookies chocolate  "
            ],
            "text/html": [
              "\n",
              "  <div id=\"df-1d774229-7da3-4dca-aa36-60b44f734dd8\">\n",
              "    <div class=\"colab-df-container\">\n",
              "      <div>\n",
              "<style scoped>\n",
              "    .dataframe tbody tr th:only-of-type {\n",
              "        vertical-align: middle;\n",
              "    }\n",
              "\n",
              "    .dataframe tbody tr th {\n",
              "        vertical-align: top;\n",
              "    }\n",
              "\n",
              "    .dataframe thead th {\n",
              "        text-align: right;\n",
              "    }\n",
              "</style>\n",
              "<table border=\"1\" class=\"dataframe\">\n",
              "  <thead>\n",
              "    <tr style=\"text-align: right;\">\n",
              "      <th></th>\n",
              "      <th>Timestamp</th>\n",
              "      <th>Fav Ice Cream</th>\n",
              "      <th>Cup / Cone / Cookie Sandwich</th>\n",
              "      <th>Toppings</th>\n",
              "      <th>Special Requests:</th>\n",
              "    </tr>\n",
              "  </thead>\n",
              "  <tbody>\n",
              "    <tr>\n",
              "      <th>0</th>\n",
              "      <td>10/10/2022 12:26:06</td>\n",
              "      <td>Cookie Dough</td>\n",
              "      <td>Cookie Sandwich</td>\n",
              "      <td>Caramel</td>\n",
              "      <td>Warm Cookie</td>\n",
              "    </tr>\n",
              "    <tr>\n",
              "      <th>1</th>\n",
              "      <td>10/10/2022 12:26:14</td>\n",
              "      <td>Butter Pecan</td>\n",
              "      <td>Cone</td>\n",
              "      <td>Caramel</td>\n",
              "      <td>NaN</td>\n",
              "    </tr>\n",
              "    <tr>\n",
              "      <th>2</th>\n",
              "      <td>10/10/2022 12:26:19</td>\n",
              "      <td>Mango</td>\n",
              "      <td>Cup</td>\n",
              "      <td>Sprinkles</td>\n",
              "      <td>none</td>\n",
              "    </tr>\n",
              "    <tr>\n",
              "      <th>3</th>\n",
              "      <td>10/10/2022 12:26:19</td>\n",
              "      <td>Mint</td>\n",
              "      <td>Cone</td>\n",
              "      <td>Marshmallows</td>\n",
              "      <td>Whipped cream</td>\n",
              "    </tr>\n",
              "    <tr>\n",
              "      <th>4</th>\n",
              "      <td>10/10/2022 12:26:21</td>\n",
              "      <td>Cookie Dough</td>\n",
              "      <td>Cup</td>\n",
              "      <td>Sprinkles</td>\n",
              "      <td>oreos</td>\n",
              "    </tr>\n",
              "    <tr>\n",
              "      <th>5</th>\n",
              "      <td>10/10/2022 12:26:22</td>\n",
              "      <td>Cookie and Cream</td>\n",
              "      <td>Cup</td>\n",
              "      <td>Sprinkles, Caramel, Marshmallows</td>\n",
              "      <td>NaN</td>\n",
              "    </tr>\n",
              "    <tr>\n",
              "      <th>6</th>\n",
              "      <td>10/10/2022 12:26:22</td>\n",
              "      <td>Chocolate</td>\n",
              "      <td>Cup</td>\n",
              "      <td>Caramel, Gummies, Candy</td>\n",
              "      <td>brownies</td>\n",
              "    </tr>\n",
              "    <tr>\n",
              "      <th>7</th>\n",
              "      <td>10/10/2022 12:26:29</td>\n",
              "      <td>Chocolate</td>\n",
              "      <td>Cup</td>\n",
              "      <td>Sprinkles</td>\n",
              "      <td>no special request</td>\n",
              "    </tr>\n",
              "    <tr>\n",
              "      <th>8</th>\n",
              "      <td>10/10/2022 12:26:30</td>\n",
              "      <td>Mint</td>\n",
              "      <td>Cookie Sandwich</td>\n",
              "      <td>Caramel</td>\n",
              "      <td>Make the cookies chocolate</td>\n",
              "    </tr>\n",
              "    <tr>\n",
              "      <th>9</th>\n",
              "      <td>10/10/2022 12:26:32</td>\n",
              "      <td>Vanillia</td>\n",
              "      <td>Cookie Sandwich</td>\n",
              "      <td>Fudge</td>\n",
              "      <td>.</td>\n",
              "    </tr>\n",
              "    <tr>\n",
              "      <th>10</th>\n",
              "      <td>10/10/2022 12:26:36</td>\n",
              "      <td>Birthday Cake</td>\n",
              "      <td>Cone</td>\n",
              "      <td>Sprinkles, Caramel</td>\n",
              "      <td>N/a</td>\n",
              "    </tr>\n",
              "    <tr>\n",
              "      <th>11</th>\n",
              "      <td>10/10/2022 12:26:39</td>\n",
              "      <td>Cookie Dough</td>\n",
              "      <td>Cup</td>\n",
              "      <td>Chips, Nuts, Candy</td>\n",
              "      <td>takis</td>\n",
              "    </tr>\n",
              "    <tr>\n",
              "      <th>12</th>\n",
              "      <td>10/10/2022 12:26:40</td>\n",
              "      <td>Chocolate</td>\n",
              "      <td>Cone</td>\n",
              "      <td>Sprinkles, Chips, Gummies, Candy</td>\n",
              "      <td>to go</td>\n",
              "    </tr>\n",
              "    <tr>\n",
              "      <th>13</th>\n",
              "      <td>10/10/2022 12:26:41</td>\n",
              "      <td>Chocolate</td>\n",
              "      <td>Cone</td>\n",
              "      <td>Fudge</td>\n",
              "      <td>whipped cream</td>\n",
              "    </tr>\n",
              "    <tr>\n",
              "      <th>14</th>\n",
              "      <td>10/10/2022 12:26:50</td>\n",
              "      <td>Chocolate</td>\n",
              "      <td>Cone</td>\n",
              "      <td>Sprinkles</td>\n",
              "      <td>soft serve only tho</td>\n",
              "    </tr>\n",
              "    <tr>\n",
              "      <th>15</th>\n",
              "      <td>10/10/2022 12:26:51</td>\n",
              "      <td>Chocolate</td>\n",
              "      <td>Cup</td>\n",
              "      <td>Candy</td>\n",
              "      <td>soft serve</td>\n",
              "    </tr>\n",
              "    <tr>\n",
              "      <th>16</th>\n",
              "      <td>10/10/2022 12:26:51</td>\n",
              "      <td>Strawberry</td>\n",
              "      <td>Cone</td>\n",
              "      <td>Caramel, Marshmallows</td>\n",
              "      <td>only cake cone not waffle cone</td>\n",
              "    </tr>\n",
              "    <tr>\n",
              "      <th>17</th>\n",
              "      <td>10/10/2022 12:26:57</td>\n",
              "      <td>Cookie and Cream</td>\n",
              "      <td>Cone</td>\n",
              "      <td>Sprinkles, Nuts, Gummies</td>\n",
              "      <td>None</td>\n",
              "    </tr>\n",
              "    <tr>\n",
              "      <th>18</th>\n",
              "      <td>10/10/2022 12:26:59</td>\n",
              "      <td>Butter Pecan</td>\n",
              "      <td>Cup</td>\n",
              "      <td>Nuts</td>\n",
              "      <td>Cherries</td>\n",
              "    </tr>\n",
              "    <tr>\n",
              "      <th>19</th>\n",
              "      <td>10/10/2022 12:27:01</td>\n",
              "      <td>Chocolate</td>\n",
              "      <td>Cup</td>\n",
              "      <td>Chips</td>\n",
              "      <td>Cake cones &gt; waffle cones</td>\n",
              "    </tr>\n",
              "    <tr>\n",
              "      <th>20</th>\n",
              "      <td>10/10/2022 12:27:01</td>\n",
              "      <td>Strawberry</td>\n",
              "      <td>Cup</td>\n",
              "      <td>Gummies</td>\n",
              "      <td>NaN</td>\n",
              "    </tr>\n",
              "    <tr>\n",
              "      <th>21</th>\n",
              "      <td>10/10/2022 12:27:07</td>\n",
              "      <td>Cookie and Cream</td>\n",
              "      <td>Cone</td>\n",
              "      <td>Sprinkles</td>\n",
              "      <td>No toppings</td>\n",
              "    </tr>\n",
              "    <tr>\n",
              "      <th>22</th>\n",
              "      <td>10/10/2022 12:27:08</td>\n",
              "      <td>Vanillia</td>\n",
              "      <td>Cup</td>\n",
              "      <td>Caramel, Nuts</td>\n",
              "      <td>Whip Cream as well</td>\n",
              "    </tr>\n",
              "    <tr>\n",
              "      <th>23</th>\n",
              "      <td>10/10/2022 12:27:13</td>\n",
              "      <td>Mango</td>\n",
              "      <td>Cone</td>\n",
              "      <td>Chips</td>\n",
              "      <td>none</td>\n",
              "    </tr>\n",
              "    <tr>\n",
              "      <th>24</th>\n",
              "      <td>10/10/2022 12:27:16</td>\n",
              "      <td>Chocolate</td>\n",
              "      <td>Cone</td>\n",
              "      <td>Sprinkles, Fudge, Caramel</td>\n",
              "      <td>No</td>\n",
              "    </tr>\n",
              "    <tr>\n",
              "      <th>25</th>\n",
              "      <td>10/10/2022 12:27:21</td>\n",
              "      <td>Cookie Dough</td>\n",
              "      <td>Cone</td>\n",
              "      <td>Sprinkles, Fudge, Caramel</td>\n",
              "      <td>-</td>\n",
              "    </tr>\n",
              "    <tr>\n",
              "      <th>26</th>\n",
              "      <td>10/10/2022 12:27:24</td>\n",
              "      <td>Cookie and Cream</td>\n",
              "      <td>Cone</td>\n",
              "      <td>Chips</td>\n",
              "      <td>Ice cream</td>\n",
              "    </tr>\n",
              "    <tr>\n",
              "      <th>27</th>\n",
              "      <td>10/10/2022 12:27:30</td>\n",
              "      <td>Mango</td>\n",
              "      <td>Cup</td>\n",
              "      <td>Marshmallows</td>\n",
              "      <td>with caramel</td>\n",
              "    </tr>\n",
              "    <tr>\n",
              "      <th>28</th>\n",
              "      <td>10/10/2022 12:27:39</td>\n",
              "      <td>Pralines and Cream</td>\n",
              "      <td>Cone</td>\n",
              "      <td>Sprinkles, Chips, Fudge, Caramel</td>\n",
              "      <td>chocolate coated waffle cone (fresh)</td>\n",
              "    </tr>\n",
              "    <tr>\n",
              "      <th>29</th>\n",
              "      <td>10/10/2022 12:28:06</td>\n",
              "      <td>Chocolate</td>\n",
              "      <td>Cookie Sandwich</td>\n",
              "      <td>Sprinkles, Caramel</td>\n",
              "      <td>m&amp;ms</td>\n",
              "    </tr>\n",
              "    <tr>\n",
              "      <th>30</th>\n",
              "      <td>10/10/2022 12:28:19</td>\n",
              "      <td>Mint</td>\n",
              "      <td>Cookie Sandwich</td>\n",
              "      <td>Fudge, Caramel</td>\n",
              "      <td>make the cookies chocolate</td>\n",
              "    </tr>\n",
              "  </tbody>\n",
              "</table>\n",
              "</div>\n",
              "      <button class=\"colab-df-convert\" onclick=\"convertToInteractive('df-1d774229-7da3-4dca-aa36-60b44f734dd8')\"\n",
              "              title=\"Convert this dataframe to an interactive table.\"\n",
              "              style=\"display:none;\">\n",
              "        \n",
              "  <svg xmlns=\"http://www.w3.org/2000/svg\" height=\"24px\"viewBox=\"0 0 24 24\"\n",
              "       width=\"24px\">\n",
              "    <path d=\"M0 0h24v24H0V0z\" fill=\"none\"/>\n",
              "    <path d=\"M18.56 5.44l.94 2.06.94-2.06 2.06-.94-2.06-.94-.94-2.06-.94 2.06-2.06.94zm-11 1L8.5 8.5l.94-2.06 2.06-.94-2.06-.94L8.5 2.5l-.94 2.06-2.06.94zm10 10l.94 2.06.94-2.06 2.06-.94-2.06-.94-.94-2.06-.94 2.06-2.06.94z\"/><path d=\"M17.41 7.96l-1.37-1.37c-.4-.4-.92-.59-1.43-.59-.52 0-1.04.2-1.43.59L10.3 9.45l-7.72 7.72c-.78.78-.78 2.05 0 2.83L4 21.41c.39.39.9.59 1.41.59.51 0 1.02-.2 1.41-.59l7.78-7.78 2.81-2.81c.8-.78.8-2.07 0-2.86zM5.41 20L4 18.59l7.72-7.72 1.47 1.35L5.41 20z\"/>\n",
              "  </svg>\n",
              "      </button>\n",
              "      \n",
              "  <style>\n",
              "    .colab-df-container {\n",
              "      display:flex;\n",
              "      flex-wrap:wrap;\n",
              "      gap: 12px;\n",
              "    }\n",
              "\n",
              "    .colab-df-convert {\n",
              "      background-color: #E8F0FE;\n",
              "      border: none;\n",
              "      border-radius: 50%;\n",
              "      cursor: pointer;\n",
              "      display: none;\n",
              "      fill: #1967D2;\n",
              "      height: 32px;\n",
              "      padding: 0 0 0 0;\n",
              "      width: 32px;\n",
              "    }\n",
              "\n",
              "    .colab-df-convert:hover {\n",
              "      background-color: #E2EBFA;\n",
              "      box-shadow: 0px 1px 2px rgba(60, 64, 67, 0.3), 0px 1px 3px 1px rgba(60, 64, 67, 0.15);\n",
              "      fill: #174EA6;\n",
              "    }\n",
              "\n",
              "    [theme=dark] .colab-df-convert {\n",
              "      background-color: #3B4455;\n",
              "      fill: #D2E3FC;\n",
              "    }\n",
              "\n",
              "    [theme=dark] .colab-df-convert:hover {\n",
              "      background-color: #434B5C;\n",
              "      box-shadow: 0px 1px 3px 1px rgba(0, 0, 0, 0.15);\n",
              "      filter: drop-shadow(0px 1px 2px rgba(0, 0, 0, 0.3));\n",
              "      fill: #FFFFFF;\n",
              "    }\n",
              "  </style>\n",
              "\n",
              "      <script>\n",
              "        const buttonEl =\n",
              "          document.querySelector('#df-1d774229-7da3-4dca-aa36-60b44f734dd8 button.colab-df-convert');\n",
              "        buttonEl.style.display =\n",
              "          google.colab.kernel.accessAllowed ? 'block' : 'none';\n",
              "\n",
              "        async function convertToInteractive(key) {\n",
              "          const element = document.querySelector('#df-1d774229-7da3-4dca-aa36-60b44f734dd8');\n",
              "          const dataTable =\n",
              "            await google.colab.kernel.invokeFunction('convertToInteractive',\n",
              "                                                     [key], {});\n",
              "          if (!dataTable) return;\n",
              "\n",
              "          const docLinkHtml = 'Like what you see? Visit the ' +\n",
              "            '<a target=\"_blank\" href=https://colab.research.google.com/notebooks/data_table.ipynb>data table notebook</a>'\n",
              "            + ' to learn more about interactive tables.';\n",
              "          element.innerHTML = '';\n",
              "          dataTable['output_type'] = 'display_data';\n",
              "          await google.colab.output.renderOutput(dataTable, element);\n",
              "          const docLink = document.createElement('div');\n",
              "          docLink.innerHTML = docLinkHtml;\n",
              "          element.appendChild(docLink);\n",
              "        }\n",
              "      </script>\n",
              "    </div>\n",
              "  </div>\n",
              "  "
            ]
          },
          "metadata": {},
          "execution_count": 53
        }
      ]
    },
    {
      "cell_type": "code",
      "source": [
        "data = np.array(data)"
      ],
      "metadata": {
        "id": "HJYMFj3Wud1r"
      },
      "execution_count": null,
      "outputs": []
    },
    {
      "cell_type": "code",
      "source": [
        "data.shape"
      ],
      "metadata": {
        "colab": {
          "base_uri": "https://localhost:8080/"
        },
        "id": "ZKx3xoclumWA",
        "outputId": "dd16ecf9-dc11-4bb0-edf5-c36a960b54fa"
      },
      "execution_count": null,
      "outputs": [
        {
          "output_type": "execute_result",
          "data": {
            "text/plain": [
              "(31, 5)"
            ]
          },
          "metadata": {},
          "execution_count": 57
        }
      ]
    },
    {
      "cell_type": "code",
      "source": [
        "flavors = data[:,1]"
      ],
      "metadata": {
        "id": "sNtkCcHzuuci"
      },
      "execution_count": null,
      "outputs": []
    },
    {
      "cell_type": "code",
      "source": [
        "flavors"
      ],
      "metadata": {
        "colab": {
          "base_uri": "https://localhost:8080/"
        },
        "id": "1Dl_x4D6u0-y",
        "outputId": "960f5d88-d672-4b27-db49-ac0a4b94955c"
      },
      "execution_count": null,
      "outputs": [
        {
          "output_type": "execute_result",
          "data": {
            "text/plain": [
              "array(['Cookie Dough', 'Butter Pecan', 'Mango', 'Mint', 'Cookie Dough',\n",
              "       'Cookie and Cream', 'Chocolate', 'Chocolate', 'Mint', 'Vanillia',\n",
              "       'Birthday Cake', 'Cookie Dough', 'Chocolate', 'Chocolate',\n",
              "       'Chocolate', 'Chocolate', 'Strawberry', 'Cookie and Cream',\n",
              "       'Butter Pecan', 'Chocolate', 'Strawberry', 'Cookie and Cream',\n",
              "       'Vanillia', 'Mango', 'Chocolate', 'Cookie Dough',\n",
              "       'Cookie and Cream', 'Mango', 'Pralines and Cream', 'Chocolate',\n",
              "       'Mint'], dtype=object)"
            ]
          },
          "metadata": {},
          "execution_count": 67
        }
      ]
    },
    {
      "cell_type": "code",
      "source": [
        "D = {}\n",
        "\n",
        "for flavor in flavors:\n",
        "    \n",
        "    count = np.sum(flavors == flavor)\n",
        "\n",
        "    print(flavor, count)\n",
        "\n",
        "    D[flavor] = count"
      ],
      "metadata": {
        "colab": {
          "base_uri": "https://localhost:8080/"
        },
        "id": "tBs3Szjjun2g",
        "outputId": "8b18ce62-32cd-42f7-b486-3f2b2c2e28ea"
      },
      "execution_count": null,
      "outputs": [
        {
          "output_type": "stream",
          "name": "stdout",
          "text": [
            "Cookie Dough 4\n",
            "Butter Pecan 2\n",
            "Mango 3\n",
            "Mint 3\n",
            "Cookie Dough 4\n",
            "Cookie and Cream 4\n",
            "Chocolate 9\n",
            "Chocolate 9\n",
            "Mint 3\n",
            "Vanillia 2\n",
            "Birthday Cake 1\n",
            "Cookie Dough 4\n",
            "Chocolate 9\n",
            "Chocolate 9\n",
            "Chocolate 9\n",
            "Chocolate 9\n",
            "Strawberry 2\n",
            "Cookie and Cream 4\n",
            "Butter Pecan 2\n",
            "Chocolate 9\n",
            "Strawberry 2\n",
            "Cookie and Cream 4\n",
            "Vanillia 2\n",
            "Mango 3\n",
            "Chocolate 9\n",
            "Cookie Dough 4\n",
            "Cookie and Cream 4\n",
            "Mango 3\n",
            "Pralines and Cream 1\n",
            "Chocolate 9\n",
            "Mint 3\n"
          ]
        }
      ]
    },
    {
      "cell_type": "code",
      "source": [
        "names = list(D.keys())\n",
        "values = list(D.values())\n",
        "\n",
        "N = len(names)\n",
        "cmap = plt.cm.tab10\n",
        "colors = cmap(np.arange(N) % cmap.N)\n",
        "ax = plt.gca()\n",
        "ax.bar(range(len(D)), values, tick_label=names, color = colors)\n",
        "ax.set_xticklabels(names, rotation = 45)\n",
        "plt.show()"
      ],
      "metadata": {
        "colab": {
          "base_uri": "https://localhost:8080/",
          "height": 331
        },
        "id": "7GVQiKsYvGkY",
        "outputId": "ab6cf594-75dc-483e-e48e-4a227795349e"
      },
      "execution_count": null,
      "outputs": [
        {
          "output_type": "display_data",
          "data": {
            "text/plain": [
              "<Figure size 432x288 with 1 Axes>"
            ],
            "image/png": "[encoded data removed]"
          },
          "metadata": {
            "needs_background": "light"
          }
        }
      ]
    },
    {
      "cell_type": "code",
      "source": [],
      "metadata": {
        "id": "yMiPWt1TvS_q"
      },
      "execution_count": null,
      "outputs": []
    }
  ]
}